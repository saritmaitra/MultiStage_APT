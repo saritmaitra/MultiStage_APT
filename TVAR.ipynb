{
  "nbformat": 4,
  "nbformat_minor": 0,
  "metadata": {
    "colab": {
      "provenance": []
    },
    "kernelspec": {
      "name": "ir",
      "display_name": "R"
    },
    "language_info": {
      "name": "R"
    }
  },
  "cells": [
    {
      "cell_type": "code",
      "source": [
        "install.packages(\"tsDyn\")\n",
        "library(tsDyn)\n",
        "library(readxl)"
      ],
      "metadata": {
        "id": "iWzqSYysq2Xp"
      },
      "execution_count": null,
      "outputs": []
    },
    {
      "cell_type": "code",
      "source": [
        "df <- read.csv(\"/content/gics.csv\")\n",
        "df$Date <- as.Date(df$Date)\n",
        "summary(df)"
      ],
      "metadata": {
        "colab": {
          "base_uri": "https://localhost:8080/",
          "height": 711
        },
        "id": "KC-oL--0q8Dp",
        "outputId": "4548fb2a-8075-4248-f779-ce8f6ce2af66"
      },
      "execution_count": 3,
      "outputs": [
        {
          "output_type": "display_data",
          "data": {
            "text/plain": [
              "      Date              Energy        Utilities           IT        \n",
              " Min.   :1-01-20    Min.   :193.9   Min.   :116.7   Min.   : 204.7  \n",
              " 1st Qu.:8-07-20    1st Qu.:421.3   1st Qu.:175.7   1st Qu.: 379.4  \n",
              " Median :16-03-20   Median :506.1   Median :218.7   Median : 670.9  \n",
              " Mean   :16-03-13   Mean   :503.7   Mean   :238.1   Mean   :1144.7  \n",
              " 3rd Qu.:23-10-20   3rd Qu.:580.3   3rd Qu.:303.7   3rd Qu.:1533.1  \n",
              " Max.   :31-12-20   Max.   :749.4   Max.   :418.7   Max.   :4711.3  \n",
              " NA's   :6          NA's   :6       NA's   :6       NA's   :6       \n",
              "   Materials      Industrials     ConsumerDiscretionary ConsumerStaples\n",
              " Min.   :110.0   Min.   : 133.6   Min.   : 127.3        Min.   :203.4  \n",
              " 1st Qu.:225.4   1st Qu.: 312.3   1st Qu.: 286.0        1st Qu.:287.9  \n",
              " Median :290.7   Median : 463.4   Median : 562.3        Median :491.1  \n",
              " Mean   :317.4   Mean   : 510.3   Mean   : 670.0        Mean   :480.3  \n",
              " 3rd Qu.:374.2   3rd Qu.: 653.2   3rd Qu.: 956.8        3rd Qu.:620.1  \n",
              " Max.   :617.0   Max.   :1214.0   Max.   :1920.7        Max.   :900.9  \n",
              " NA's   :6       NA's   :6        NA's   :6             NA's   :6      \n",
              "   healthcare       Financials     CommunicationServices   RealEstate    \n",
              " Min.   : 255.6   Min.   : 81.74   Min.   : 91.44        Min.   : 42.95  \n",
              " 1st Qu.: 382.2   1st Qu.:275.27   1st Qu.:131.88        1st Qu.:139.59  \n",
              " Median : 776.3   Median :394.07   Median :155.86        Median :181.52  \n",
              " Mean   : 815.6   Mean   :390.23   Mean   :165.08        Mean   :180.10  \n",
              " 3rd Qu.:1127.9   3rd Qu.:481.20   3rd Qu.:174.59        3rd Qu.:222.53  \n",
              " Max.   :1829.7   Max.   :851.98   Max.   :352.03        Max.   :324.75  \n",
              " NA's   :6        NA's   :6        NA's   :6             NA's   :6       \n",
              "     sp500           wti_spot           VIX           FedFunds    \n",
              " Min.   : 683.4   Min.   :  3.32   Min.   : 9.14   Min.   :0.040  \n",
              " 1st Qu.:1315.0   1st Qu.: 55.20   1st Qu.:13.14   1st Qu.:0.120  \n",
              " Median :1985.5   Median : 70.62   Median :16.48   Median :0.400  \n",
              " Mean   :2355.2   Mean   : 71.85   Mean   :18.97   Mean   :1.684  \n",
              " 3rd Qu.:2999.7   3rd Qu.: 88.02   3rd Qu.:22.03   3rd Qu.:2.995  \n",
              " Max.   :6090.3   Max.   :142.52   Max.   :79.13   Max.   :5.330  \n",
              " NA's   :6        NA's   :6        NA's   :6       NA's   :6      \n",
              " inflation_yoy          UNRATE          INDPRO      \n",
              " Min.   :-0.01959   Min.   : 3.40   Min.   : 84.67  \n",
              " 1st Qu.: 0.01494   1st Qu.: 4.10   1st Qu.: 97.15  \n",
              " Median : 0.02207   Median : 5.00   Median : 99.75  \n",
              " Mean   : 0.02587   Mean   : 5.82   Mean   : 98.76  \n",
              " 3rd Qu.: 0.03390   3rd Qu.: 7.40   3rd Qu.:102.21  \n",
              " Max.   : 0.08999   Max.   :14.80   Max.   :104.10  \n",
              " NA's   :6          NA's   :6                       "
            ]
          },
          "metadata": {}
        }
      ]
    },
    {
      "cell_type": "code",
      "source": [
        "df$sp500_logreturns <- c(NA, diff(log(df$sp500)))\n",
        "df$wti_spot_logreturns <- c(NA, diff(log(df$wti_spot)))\n",
        "df <- na.omit(df)\n",
        "head(df)"
      ],
      "metadata": {
        "colab": {
          "base_uri": "https://localhost:8080/",
          "height": 410
        },
        "id": "eTedxiCft-pa",
        "outputId": "854275a7-c1b7-4fae-8204-7bd1b52d1cf5"
      },
      "execution_count": 4,
      "outputs": [
        {
          "output_type": "display_data",
          "data": {
            "text/html": [
              "<table class=\"dataframe\">\n",
              "<caption>A data.frame: 6 × 21</caption>\n",
              "<thead>\n",
              "\t<tr><th></th><th scope=col>Date</th><th scope=col>Energy</th><th scope=col>Utilities</th><th scope=col>IT</th><th scope=col>Materials</th><th scope=col>Industrials</th><th scope=col>ConsumerDiscretionary</th><th scope=col>ConsumerStaples</th><th scope=col>healthcare</th><th scope=col>Financials</th><th scope=col>⋯</th><th scope=col>RealEstate</th><th scope=col>sp500</th><th scope=col>wti_spot</th><th scope=col>VIX</th><th scope=col>FedFunds</th><th scope=col>inflation_yoy</th><th scope=col>UNRATE</th><th scope=col>INDPRO</th><th scope=col>sp500_logreturns</th><th scope=col>wti_spot_logreturns</th></tr>\n",
              "\t<tr><th></th><th scope=col>&lt;date&gt;</th><th scope=col>&lt;dbl&gt;</th><th scope=col>&lt;dbl&gt;</th><th scope=col>&lt;dbl&gt;</th><th scope=col>&lt;dbl&gt;</th><th scope=col>&lt;dbl&gt;</th><th scope=col>&lt;dbl&gt;</th><th scope=col>&lt;dbl&gt;</th><th scope=col>&lt;dbl&gt;</th><th scope=col>&lt;dbl&gt;</th><th scope=col>⋯</th><th scope=col>&lt;dbl&gt;</th><th scope=col>&lt;dbl&gt;</th><th scope=col>&lt;dbl&gt;</th><th scope=col>&lt;dbl&gt;</th><th scope=col>&lt;dbl&gt;</th><th scope=col>&lt;dbl&gt;</th><th scope=col>&lt;dbl&gt;</th><th scope=col>&lt;dbl&gt;</th><th scope=col>&lt;dbl&gt;</th><th scope=col>&lt;dbl&gt;</th></tr>\n",
              "</thead>\n",
              "<tbody>\n",
              "\t<tr><th scope=row>2</th><td>14-01-20</td><td>288.84</td><td>139.93</td><td>316.34</td><td>178.17</td><td>280.46</td><td>272.62</td><td>238.60</td><td>344.68</td><td>400.20</td><td>⋯</td><td>114.63</td><td>1184.52</td><td>46.79</td><td>12.43</td><td>2.25</td><td>0.02844874</td><td>5.3</td><td>95.8785</td><td>-0.001408861</td><td> 0.05989023</td></tr>\n",
              "\t<tr><th scope=row>3</th><td>21-01-20</td><td>287.36</td><td>139.53</td><td>307.49</td><td>175.74</td><td>275.18</td><td>266.17</td><td>237.98</td><td>340.69</td><td>396.96</td><td>⋯</td><td>115.50</td><td>1167.87</td><td>47.85</td><td>14.36</td><td>2.28</td><td>0.02844874</td><td>5.3</td><td>95.8785</td><td>-0.014156052</td><td> 0.02240161</td></tr>\n",
              "\t<tr><th scope=row>4</th><td>28-01-20</td><td>293.39</td><td>142.75</td><td>308.91</td><td>175.57</td><td>278.66</td><td>264.30</td><td>239.43</td><td>338.96</td><td>396.53</td><td>⋯</td><td>111.19</td><td>1171.36</td><td>48.56</td><td>13.24</td><td>2.27</td><td>0.02844874</td><td>5.3</td><td>95.8785</td><td> 0.002983890</td><td> 0.01472903</td></tr>\n",
              "\t<tr><th scope=row>5</th><td>4-02-20</td><td>311.19</td><td>147.91</td><td>316.27</td><td>181.67</td><td>283.76</td><td>269.95</td><td>243.74</td><td>345.94</td><td>408.69</td><td>⋯</td><td>115.11</td><td>1203.03</td><td>46.97</td><td>11.21</td><td>2.43</td><td>0.03053026</td><td>5.4</td><td>96.5709</td><td> 0.026677907</td><td>-0.03329105</td></tr>\n",
              "\t<tr><th scope=row>6</th><td>11-02-20</td><td>319.34</td><td>147.25</td><td>315.58</td><td>182.87</td><td>285.35</td><td>269.58</td><td>241.74</td><td>347.25</td><td>410.18</td><td>⋯</td><td>117.55</td><td>1205.30</td><td>46.08</td><td>11.43</td><td>2.50</td><td>0.03053026</td><td>5.4</td><td>96.5709</td><td> 0.001885124</td><td>-0.01913008</td></tr>\n",
              "\t<tr><th scope=row>7</th><td>18-02-20</td><td>333.71</td><td>146.51</td><td>311.66</td><td>187.72</td><td>283.72</td><td>268.48</td><td>241.13</td><td>351.56</td><td>399.95</td><td>⋯</td><td>116.77</td><td>1201.59</td><td>47.82</td><td>11.18</td><td>2.50</td><td>0.03053026</td><td>5.4</td><td>96.5709</td><td>-0.003082819</td><td> 0.03706495</td></tr>\n",
              "</tbody>\n",
              "</table>\n"
            ],
            "text/markdown": "\nA data.frame: 6 × 21\n\n| <!--/--> | Date &lt;date&gt; | Energy &lt;dbl&gt; | Utilities &lt;dbl&gt; | IT &lt;dbl&gt; | Materials &lt;dbl&gt; | Industrials &lt;dbl&gt; | ConsumerDiscretionary &lt;dbl&gt; | ConsumerStaples &lt;dbl&gt; | healthcare &lt;dbl&gt; | Financials &lt;dbl&gt; | ⋯ ⋯ | RealEstate &lt;dbl&gt; | sp500 &lt;dbl&gt; | wti_spot &lt;dbl&gt; | VIX &lt;dbl&gt; | FedFunds &lt;dbl&gt; | inflation_yoy &lt;dbl&gt; | UNRATE &lt;dbl&gt; | INDPRO &lt;dbl&gt; | sp500_logreturns &lt;dbl&gt; | wti_spot_logreturns &lt;dbl&gt; |\n|---|---|---|---|---|---|---|---|---|---|---|---|---|---|---|---|---|---|---|---|---|---|\n| 2 | 14-01-20 | 288.84 | 139.93 | 316.34 | 178.17 | 280.46 | 272.62 | 238.60 | 344.68 | 400.20 | ⋯ | 114.63 | 1184.52 | 46.79 | 12.43 | 2.25 | 0.02844874 | 5.3 | 95.8785 | -0.001408861 |  0.05989023 |\n| 3 | 21-01-20 | 287.36 | 139.53 | 307.49 | 175.74 | 275.18 | 266.17 | 237.98 | 340.69 | 396.96 | ⋯ | 115.50 | 1167.87 | 47.85 | 14.36 | 2.28 | 0.02844874 | 5.3 | 95.8785 | -0.014156052 |  0.02240161 |\n| 4 | 28-01-20 | 293.39 | 142.75 | 308.91 | 175.57 | 278.66 | 264.30 | 239.43 | 338.96 | 396.53 | ⋯ | 111.19 | 1171.36 | 48.56 | 13.24 | 2.27 | 0.02844874 | 5.3 | 95.8785 |  0.002983890 |  0.01472903 |\n| 5 | 4-02-20 | 311.19 | 147.91 | 316.27 | 181.67 | 283.76 | 269.95 | 243.74 | 345.94 | 408.69 | ⋯ | 115.11 | 1203.03 | 46.97 | 11.21 | 2.43 | 0.03053026 | 5.4 | 96.5709 |  0.026677907 | -0.03329105 |\n| 6 | 11-02-20 | 319.34 | 147.25 | 315.58 | 182.87 | 285.35 | 269.58 | 241.74 | 347.25 | 410.18 | ⋯ | 117.55 | 1205.30 | 46.08 | 11.43 | 2.50 | 0.03053026 | 5.4 | 96.5709 |  0.001885124 | -0.01913008 |\n| 7 | 18-02-20 | 333.71 | 146.51 | 311.66 | 187.72 | 283.72 | 268.48 | 241.13 | 351.56 | 399.95 | ⋯ | 116.77 | 1201.59 | 47.82 | 11.18 | 2.50 | 0.03053026 | 5.4 | 96.5709 | -0.003082819 |  0.03706495 |\n\n",
            "text/latex": "A data.frame: 6 × 21\n\\begin{tabular}{r|lllllllllllllllllllll}\n  & Date & Energy & Utilities & IT & Materials & Industrials & ConsumerDiscretionary & ConsumerStaples & healthcare & Financials & ⋯ & RealEstate & sp500 & wti\\_spot & VIX & FedFunds & inflation\\_yoy & UNRATE & INDPRO & sp500\\_logreturns & wti\\_spot\\_logreturns\\\\\n  & <date> & <dbl> & <dbl> & <dbl> & <dbl> & <dbl> & <dbl> & <dbl> & <dbl> & <dbl> & ⋯ & <dbl> & <dbl> & <dbl> & <dbl> & <dbl> & <dbl> & <dbl> & <dbl> & <dbl> & <dbl>\\\\\n\\hline\n\t2 & 14-01-20 & 288.84 & 139.93 & 316.34 & 178.17 & 280.46 & 272.62 & 238.60 & 344.68 & 400.20 & ⋯ & 114.63 & 1184.52 & 46.79 & 12.43 & 2.25 & 0.02844874 & 5.3 & 95.8785 & -0.001408861 &  0.05989023\\\\\n\t3 & 21-01-20 & 287.36 & 139.53 & 307.49 & 175.74 & 275.18 & 266.17 & 237.98 & 340.69 & 396.96 & ⋯ & 115.50 & 1167.87 & 47.85 & 14.36 & 2.28 & 0.02844874 & 5.3 & 95.8785 & -0.014156052 &  0.02240161\\\\\n\t4 & 28-01-20 & 293.39 & 142.75 & 308.91 & 175.57 & 278.66 & 264.30 & 239.43 & 338.96 & 396.53 & ⋯ & 111.19 & 1171.36 & 48.56 & 13.24 & 2.27 & 0.02844874 & 5.3 & 95.8785 &  0.002983890 &  0.01472903\\\\\n\t5 & 4-02-20 & 311.19 & 147.91 & 316.27 & 181.67 & 283.76 & 269.95 & 243.74 & 345.94 & 408.69 & ⋯ & 115.11 & 1203.03 & 46.97 & 11.21 & 2.43 & 0.03053026 & 5.4 & 96.5709 &  0.026677907 & -0.03329105\\\\\n\t6 & 11-02-20 & 319.34 & 147.25 & 315.58 & 182.87 & 285.35 & 269.58 & 241.74 & 347.25 & 410.18 & ⋯ & 117.55 & 1205.30 & 46.08 & 11.43 & 2.50 & 0.03053026 & 5.4 & 96.5709 &  0.001885124 & -0.01913008\\\\\n\t7 & 18-02-20 & 333.71 & 146.51 & 311.66 & 187.72 & 283.72 & 268.48 & 241.13 & 351.56 & 399.95 & ⋯ & 116.77 & 1201.59 & 47.82 & 11.18 & 2.50 & 0.03053026 & 5.4 & 96.5709 & -0.003082819 &  0.03706495\\\\\n\\end{tabular}\n",
            "text/plain": [
              "  Date     Energy Utilities IT     Materials Industrials ConsumerDiscretionary\n",
              "2 14-01-20 288.84 139.93    316.34 178.17    280.46      272.62               \n",
              "3 21-01-20 287.36 139.53    307.49 175.74    275.18      266.17               \n",
              "4 28-01-20 293.39 142.75    308.91 175.57    278.66      264.30               \n",
              "5 4-02-20  311.19 147.91    316.27 181.67    283.76      269.95               \n",
              "6 11-02-20 319.34 147.25    315.58 182.87    285.35      269.58               \n",
              "7 18-02-20 333.71 146.51    311.66 187.72    283.72      268.48               \n",
              "  ConsumerStaples healthcare Financials ⋯ RealEstate sp500   wti_spot VIX  \n",
              "2 238.60          344.68     400.20     ⋯ 114.63     1184.52 46.79    12.43\n",
              "3 237.98          340.69     396.96     ⋯ 115.50     1167.87 47.85    14.36\n",
              "4 239.43          338.96     396.53     ⋯ 111.19     1171.36 48.56    13.24\n",
              "5 243.74          345.94     408.69     ⋯ 115.11     1203.03 46.97    11.21\n",
              "6 241.74          347.25     410.18     ⋯ 117.55     1205.30 46.08    11.43\n",
              "7 241.13          351.56     399.95     ⋯ 116.77     1201.59 47.82    11.18\n",
              "  FedFunds inflation_yoy UNRATE INDPRO  sp500_logreturns wti_spot_logreturns\n",
              "2 2.25     0.02844874    5.3    95.8785 -0.001408861      0.05989023        \n",
              "3 2.28     0.02844874    5.3    95.8785 -0.014156052      0.02240161        \n",
              "4 2.27     0.02844874    5.3    95.8785  0.002983890      0.01472903        \n",
              "5 2.43     0.03053026    5.4    96.5709  0.026677907     -0.03329105        \n",
              "6 2.50     0.03053026    5.4    96.5709  0.001885124     -0.01913008        \n",
              "7 2.50     0.03053026    5.4    96.5709 -0.003082819      0.03706495        "
            ]
          },
          "metadata": {}
        }
      ]
    },
    {
      "cell_type": "code",
      "source": [
        "DF <- na.omit(df[, c(\"sp500_logreturns\", \"wti_spot_logreturns\", \"VIX\")])\n",
        "nrow(DF)"
      ],
      "metadata": {
        "colab": {
          "base_uri": "https://localhost:8080/",
          "height": 34
        },
        "id": "NafJAemg6Dxf",
        "outputId": "63c447c9-167a-4da9-b9e5-353980f704e7"
      },
      "execution_count": 5,
      "outputs": [
        {
          "output_type": "display_data",
          "data": {
            "text/html": [
              "1042"
            ],
            "text/markdown": "1042",
            "text/latex": "1042",
            "text/plain": [
              "[1] 1042"
            ]
          },
          "metadata": {}
        }
      ]
    },
    {
      "cell_type": "code",
      "source": [
        "Y <- ts(DF[, c(\"sp500_logreturns\", \"wti_spot_logreturns\")], frequency = 52)\n",
        "VIX <- DF$VIX"
      ],
      "metadata": {
        "id": "HUirBW2t6p_f"
      },
      "execution_count": 6,
      "outputs": []
    },
    {
      "cell_type": "code",
      "source": [
        "VIX_vector <- as.numeric(na.omit(DF$VIX))\n",
        "\n",
        "model <- TVAR(\n",
        "  data = Y,\n",
        "  lag = 1,\n",
        "  nthresh = 1,\n",
        "  thDelay = 1,\n",
        "  trim = 0.15,\n",
        "  mTh = 1,\n",
        "  thVar = VIX_vector,\n",
        "  model = \"TAR\",\n",
        "  commonInter = FALSE)\n",
        "\n",
        "print(model)\n",
        "cat(\"Optimal Threshold (θ):\", model$Thresh, \"\\n\")"
      ],
      "metadata": {
        "colab": {
          "base_uri": "https://localhost:8080/"
        },
        "id": "gowUBTXx63HQ",
        "outputId": "90a28eb5-bb49-4385-ee8b-64c97cebc8ce"
      },
      "execution_count": 8,
      "outputs": [
        {
          "output_type": "stream",
          "name": "stdout",
          "text": [
            "Best unique threshold 23.7 \n",
            "Model TVAR with  1  thresholds\n",
            "\n",
            "$Bdown\n",
            "                                 Intercept sp500_logreturns -1\n",
            "Equation sp500_logreturns     1.553495e-03         -0.06397763\n",
            "Equation wti_spot_logreturns -1.490841e-05          0.23913129\n",
            "                             wti_spot_logreturns -1\n",
            "Equation sp500_logreturns               -0.01522454\n",
            "Equation wti_spot_logreturns             0.19845406\n",
            "\n",
            "$Bup\n",
            "                                Intercept sp500_logreturns -1\n",
            "Equation sp500_logreturns     0.002158799         -0.08265601\n",
            "Equation wti_spot_logreturns -0.002704539          0.35742541\n",
            "                             wti_spot_logreturns -1\n",
            "Equation sp500_logreturns                0.01455001\n",
            "Equation wti_spot_logreturns            -0.23843979\n",
            "\n",
            "\n",
            "Threshold value[1] \"23.7\"\n",
            "Optimal Threshold (θ): \n"
          ]
        }
      ]
    }
  ]
}